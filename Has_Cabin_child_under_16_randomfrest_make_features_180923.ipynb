{
 "cells": [
  {
   "cell_type": "markdown",
   "metadata": {},
   "source": [
    "# モジュールのインポート"
   ]
  },
  {
   "cell_type": "code",
   "execution_count": 1,
   "metadata": {},
   "outputs": [
    {
     "name": "stderr",
     "output_type": "stream",
     "text": [
      "C:\\Users\\Tomori kengo\\Anaconda3\\lib\\site-packages\\sklearn\\cross_validation.py:41: DeprecationWarning: This module was deprecated in version 0.18 in favor of the model_selection module into which all the refactored classes and functions are moved. Also note that the interface of the new CV iterators are different from that of this module. This module will be removed in 0.20.\n",
      "  \"This module will be removed in 0.20.\", DeprecationWarning)\n",
      "C:\\Users\\Tomori kengo\\Anaconda3\\lib\\site-packages\\sklearn\\grid_search.py:42: DeprecationWarning: This module was deprecated in version 0.18 in favor of the model_selection module into which all the refactored classes and functions are moved. This module will be removed in 0.20.\n",
      "  DeprecationWarning)\n"
     ]
    }
   ],
   "source": [
    "import pandas as pd\n",
    "import numpy as np\n",
    "\n",
    "from matplotlib import pyplot as plt\n",
    "import seaborn as sns\n",
    "import pydotplus\n",
    "from IPython.display import Image\n",
    "from sklearn.externals.six import StringIO\n",
    "%matplotlib inline\n",
    "\n",
    "import lightgbm as lgb\n",
    "from sklearn.model_selection import train_test_split\n",
    "from sklearn.linear_model import LinearRegression as LR\n",
    "from sklearn.ensemble import RandomForestClassifier\n",
    "from sklearn.ensemble import RandomForestRegressor\n",
    "from sklearn.cross_validation import cross_val_score\n",
    "from sklearn import grid_search\n",
    "\n",
    "from sklearn.cross_validation import KFold\n",
    "from sklearn.cross_validation import StratifiedKFold\n",
    "\n",
    "from sklearn.metrics import classification_report, roc_auc_score, precision_recall_curve, auc, roc_curve"
   ]
  },
  {
   "cell_type": "markdown",
   "metadata": {},
   "source": [
    "# データの読み込み"
   ]
  },
  {
   "cell_type": "code",
   "execution_count": 2,
   "metadata": {
    "collapsed": true
   },
   "outputs": [],
   "source": [
    "df_train = pd.read_csv('train.csv')\n",
    "df_test = pd.read_csv('test.csv')"
   ]
  },
  {
   "cell_type": "code",
   "execution_count": 3,
   "metadata": {},
   "outputs": [
    {
     "data": {
      "text/html": [
       "<div>\n",
       "<style scoped>\n",
       "    .dataframe tbody tr th:only-of-type {\n",
       "        vertical-align: middle;\n",
       "    }\n",
       "\n",
       "    .dataframe tbody tr th {\n",
       "        vertical-align: top;\n",
       "    }\n",
       "\n",
       "    .dataframe thead th {\n",
       "        text-align: right;\n",
       "    }\n",
       "</style>\n",
       "<table border=\"1\" class=\"dataframe\">\n",
       "  <thead>\n",
       "    <tr style=\"text-align: right;\">\n",
       "      <th></th>\n",
       "      <th>PassengerId</th>\n",
       "      <th>Survived</th>\n",
       "      <th>Pclass</th>\n",
       "      <th>Name</th>\n",
       "      <th>Sex</th>\n",
       "      <th>Age</th>\n",
       "      <th>SibSp</th>\n",
       "      <th>Parch</th>\n",
       "      <th>Ticket</th>\n",
       "      <th>Fare</th>\n",
       "      <th>Cabin</th>\n",
       "      <th>Embarked</th>\n",
       "    </tr>\n",
       "  </thead>\n",
       "  <tbody>\n",
       "    <tr>\n",
       "      <th>0</th>\n",
       "      <td>1</td>\n",
       "      <td>0</td>\n",
       "      <td>3</td>\n",
       "      <td>Braund, Mr. Owen Harris</td>\n",
       "      <td>male</td>\n",
       "      <td>22.0</td>\n",
       "      <td>1</td>\n",
       "      <td>0</td>\n",
       "      <td>A/5 21171</td>\n",
       "      <td>7.2500</td>\n",
       "      <td>NaN</td>\n",
       "      <td>S</td>\n",
       "    </tr>\n",
       "    <tr>\n",
       "      <th>1</th>\n",
       "      <td>2</td>\n",
       "      <td>1</td>\n",
       "      <td>1</td>\n",
       "      <td>Cumings, Mrs. John Bradley (Florence Briggs Th...</td>\n",
       "      <td>female</td>\n",
       "      <td>38.0</td>\n",
       "      <td>1</td>\n",
       "      <td>0</td>\n",
       "      <td>PC 17599</td>\n",
       "      <td>71.2833</td>\n",
       "      <td>C85</td>\n",
       "      <td>C</td>\n",
       "    </tr>\n",
       "    <tr>\n",
       "      <th>2</th>\n",
       "      <td>3</td>\n",
       "      <td>1</td>\n",
       "      <td>3</td>\n",
       "      <td>Heikkinen, Miss. Laina</td>\n",
       "      <td>female</td>\n",
       "      <td>26.0</td>\n",
       "      <td>0</td>\n",
       "      <td>0</td>\n",
       "      <td>STON/O2. 3101282</td>\n",
       "      <td>7.9250</td>\n",
       "      <td>NaN</td>\n",
       "      <td>S</td>\n",
       "    </tr>\n",
       "    <tr>\n",
       "      <th>3</th>\n",
       "      <td>4</td>\n",
       "      <td>1</td>\n",
       "      <td>1</td>\n",
       "      <td>Futrelle, Mrs. Jacques Heath (Lily May Peel)</td>\n",
       "      <td>female</td>\n",
       "      <td>35.0</td>\n",
       "      <td>1</td>\n",
       "      <td>0</td>\n",
       "      <td>113803</td>\n",
       "      <td>53.1000</td>\n",
       "      <td>C123</td>\n",
       "      <td>S</td>\n",
       "    </tr>\n",
       "    <tr>\n",
       "      <th>4</th>\n",
       "      <td>5</td>\n",
       "      <td>0</td>\n",
       "      <td>3</td>\n",
       "      <td>Allen, Mr. William Henry</td>\n",
       "      <td>male</td>\n",
       "      <td>35.0</td>\n",
       "      <td>0</td>\n",
       "      <td>0</td>\n",
       "      <td>373450</td>\n",
       "      <td>8.0500</td>\n",
       "      <td>NaN</td>\n",
       "      <td>S</td>\n",
       "    </tr>\n",
       "  </tbody>\n",
       "</table>\n",
       "</div>"
      ],
      "text/plain": [
       "   PassengerId  Survived  Pclass  \\\n",
       "0            1         0       3   \n",
       "1            2         1       1   \n",
       "2            3         1       3   \n",
       "3            4         1       1   \n",
       "4            5         0       3   \n",
       "\n",
       "                                                Name     Sex   Age  SibSp  \\\n",
       "0                            Braund, Mr. Owen Harris    male  22.0      1   \n",
       "1  Cumings, Mrs. John Bradley (Florence Briggs Th...  female  38.0      1   \n",
       "2                             Heikkinen, Miss. Laina  female  26.0      0   \n",
       "3       Futrelle, Mrs. Jacques Heath (Lily May Peel)  female  35.0      1   \n",
       "4                           Allen, Mr. William Henry    male  35.0      0   \n",
       "\n",
       "   Parch            Ticket     Fare Cabin Embarked  \n",
       "0      0         A/5 21171   7.2500   NaN        S  \n",
       "1      0          PC 17599  71.2833   C85        C  \n",
       "2      0  STON/O2. 3101282   7.9250   NaN        S  \n",
       "3      0            113803  53.1000  C123        S  \n",
       "4      0            373450   8.0500   NaN        S  "
      ]
     },
     "execution_count": 3,
     "metadata": {},
     "output_type": "execute_result"
    }
   ],
   "source": [
    "df_train.head()"
   ]
  },
  {
   "cell_type": "code",
   "execution_count": 4,
   "metadata": {
    "scrolled": false
   },
   "outputs": [
    {
     "data": {
      "text/html": [
       "<div>\n",
       "<style scoped>\n",
       "    .dataframe tbody tr th:only-of-type {\n",
       "        vertical-align: middle;\n",
       "    }\n",
       "\n",
       "    .dataframe tbody tr th {\n",
       "        vertical-align: top;\n",
       "    }\n",
       "\n",
       "    .dataframe thead th {\n",
       "        text-align: right;\n",
       "    }\n",
       "</style>\n",
       "<table border=\"1\" class=\"dataframe\">\n",
       "  <thead>\n",
       "    <tr style=\"text-align: right;\">\n",
       "      <th></th>\n",
       "      <th>PassengerId</th>\n",
       "      <th>Pclass</th>\n",
       "      <th>Name</th>\n",
       "      <th>Sex</th>\n",
       "      <th>Age</th>\n",
       "      <th>SibSp</th>\n",
       "      <th>Parch</th>\n",
       "      <th>Ticket</th>\n",
       "      <th>Fare</th>\n",
       "      <th>Cabin</th>\n",
       "      <th>Embarked</th>\n",
       "    </tr>\n",
       "  </thead>\n",
       "  <tbody>\n",
       "    <tr>\n",
       "      <th>0</th>\n",
       "      <td>892</td>\n",
       "      <td>3</td>\n",
       "      <td>Kelly, Mr. James</td>\n",
       "      <td>male</td>\n",
       "      <td>34.5</td>\n",
       "      <td>0</td>\n",
       "      <td>0</td>\n",
       "      <td>330911</td>\n",
       "      <td>7.8292</td>\n",
       "      <td>NaN</td>\n",
       "      <td>Q</td>\n",
       "    </tr>\n",
       "    <tr>\n",
       "      <th>1</th>\n",
       "      <td>893</td>\n",
       "      <td>3</td>\n",
       "      <td>Wilkes, Mrs. James (Ellen Needs)</td>\n",
       "      <td>female</td>\n",
       "      <td>47.0</td>\n",
       "      <td>1</td>\n",
       "      <td>0</td>\n",
       "      <td>363272</td>\n",
       "      <td>7.0000</td>\n",
       "      <td>NaN</td>\n",
       "      <td>S</td>\n",
       "    </tr>\n",
       "    <tr>\n",
       "      <th>2</th>\n",
       "      <td>894</td>\n",
       "      <td>2</td>\n",
       "      <td>Myles, Mr. Thomas Francis</td>\n",
       "      <td>male</td>\n",
       "      <td>62.0</td>\n",
       "      <td>0</td>\n",
       "      <td>0</td>\n",
       "      <td>240276</td>\n",
       "      <td>9.6875</td>\n",
       "      <td>NaN</td>\n",
       "      <td>Q</td>\n",
       "    </tr>\n",
       "    <tr>\n",
       "      <th>3</th>\n",
       "      <td>895</td>\n",
       "      <td>3</td>\n",
       "      <td>Wirz, Mr. Albert</td>\n",
       "      <td>male</td>\n",
       "      <td>27.0</td>\n",
       "      <td>0</td>\n",
       "      <td>0</td>\n",
       "      <td>315154</td>\n",
       "      <td>8.6625</td>\n",
       "      <td>NaN</td>\n",
       "      <td>S</td>\n",
       "    </tr>\n",
       "    <tr>\n",
       "      <th>4</th>\n",
       "      <td>896</td>\n",
       "      <td>3</td>\n",
       "      <td>Hirvonen, Mrs. Alexander (Helga E Lindqvist)</td>\n",
       "      <td>female</td>\n",
       "      <td>22.0</td>\n",
       "      <td>1</td>\n",
       "      <td>1</td>\n",
       "      <td>3101298</td>\n",
       "      <td>12.2875</td>\n",
       "      <td>NaN</td>\n",
       "      <td>S</td>\n",
       "    </tr>\n",
       "  </tbody>\n",
       "</table>\n",
       "</div>"
      ],
      "text/plain": [
       "   PassengerId  Pclass                                          Name     Sex  \\\n",
       "0          892       3                              Kelly, Mr. James    male   \n",
       "1          893       3              Wilkes, Mrs. James (Ellen Needs)  female   \n",
       "2          894       2                     Myles, Mr. Thomas Francis    male   \n",
       "3          895       3                              Wirz, Mr. Albert    male   \n",
       "4          896       3  Hirvonen, Mrs. Alexander (Helga E Lindqvist)  female   \n",
       "\n",
       "    Age  SibSp  Parch   Ticket     Fare Cabin Embarked  \n",
       "0  34.5      0      0   330911   7.8292   NaN        Q  \n",
       "1  47.0      1      0   363272   7.0000   NaN        S  \n",
       "2  62.0      0      0   240276   9.6875   NaN        Q  \n",
       "3  27.0      0      0   315154   8.6625   NaN        S  \n",
       "4  22.0      1      1  3101298  12.2875   NaN        S  "
      ]
     },
     "execution_count": 4,
     "metadata": {},
     "output_type": "execute_result"
    }
   ],
   "source": [
    "df_test.head()"
   ]
  },
  {
   "cell_type": "code",
   "execution_count": 5,
   "metadata": {
    "scrolled": true
   },
   "outputs": [
    {
     "name": "stdout",
     "output_type": "stream",
     "text": [
      "<class 'pandas.core.frame.DataFrame'>\n",
      "RangeIndex: 891 entries, 0 to 890\n",
      "Data columns (total 12 columns):\n",
      "PassengerId    891 non-null int64\n",
      "Survived       891 non-null int64\n",
      "Pclass         891 non-null int64\n",
      "Name           891 non-null object\n",
      "Sex            891 non-null object\n",
      "Age            714 non-null float64\n",
      "SibSp          891 non-null int64\n",
      "Parch          891 non-null int64\n",
      "Ticket         891 non-null object\n",
      "Fare           891 non-null float64\n",
      "Cabin          204 non-null object\n",
      "Embarked       889 non-null object\n",
      "dtypes: float64(2), int64(5), object(5)\n",
      "memory usage: 83.6+ KB\n",
      "None\n",
      "<class 'pandas.core.frame.DataFrame'>\n",
      "RangeIndex: 418 entries, 0 to 417\n",
      "Data columns (total 11 columns):\n",
      "PassengerId    418 non-null int64\n",
      "Pclass         418 non-null int64\n",
      "Name           418 non-null object\n",
      "Sex            418 non-null object\n",
      "Age            332 non-null float64\n",
      "SibSp          418 non-null int64\n",
      "Parch          418 non-null int64\n",
      "Ticket         418 non-null object\n",
      "Fare           417 non-null float64\n",
      "Cabin          91 non-null object\n",
      "Embarked       418 non-null object\n",
      "dtypes: float64(2), int64(4), object(5)\n",
      "memory usage: 36.0+ KB\n",
      "None\n"
     ]
    }
   ],
   "source": [
    "print(df_train.info())\n",
    "print(df_test.info())"
   ]
  },
  {
   "cell_type": "markdown",
   "metadata": {},
   "source": [
    "# 前処理"
   ]
  },
  {
   "cell_type": "code",
   "execution_count": 6,
   "metadata": {
    "scrolled": true
   },
   "outputs": [
    {
     "name": "stdout",
     "output_type": "stream",
     "text": [
      "PassengerId      0\n",
      "Survived         0\n",
      "Pclass           0\n",
      "Name             0\n",
      "Sex              0\n",
      "Age            177\n",
      "SibSp            0\n",
      "Parch            0\n",
      "Ticket           0\n",
      "Fare             0\n",
      "Cabin          687\n",
      "Embarked         2\n",
      "dtype: int64\n",
      "PassengerId      0\n",
      "Pclass           0\n",
      "Name             0\n",
      "Sex              0\n",
      "Age             86\n",
      "SibSp            0\n",
      "Parch            0\n",
      "Ticket           0\n",
      "Fare             1\n",
      "Cabin          327\n",
      "Embarked         0\n",
      "dtype: int64\n"
     ]
    }
   ],
   "source": [
    "# 各カラムの欠損値の確認\n",
    "print(df_train.isnull().sum())\n",
    "print(df_test.isnull().sum())"
   ]
  },
  {
   "cell_type": "code",
   "execution_count": 7,
   "metadata": {},
   "outputs": [
    {
     "data": {
      "text/plain": [
       "S    644\n",
       "C    168\n",
       "Q     77\n",
       "Name: Embarked, dtype: int64"
      ]
     },
     "execution_count": 7,
     "metadata": {},
     "output_type": "execute_result"
    }
   ],
   "source": [
    "# Embarkedの欠損値補完\n",
    "# 最頻値を確認\n",
    "df_train['Embarked'].value_counts()"
   ]
  },
  {
   "cell_type": "code",
   "execution_count": 8,
   "metadata": {
    "collapsed": true
   },
   "outputs": [],
   "source": [
    "# 最頻値のSで欠損値を補完\n",
    "df_train['Embarked'] = df_train['Embarked'].fillna('S')"
   ]
  },
  {
   "cell_type": "code",
   "execution_count": 9,
   "metadata": {},
   "outputs": [
    {
     "data": {
      "text/plain": [
       "S    646\n",
       "C    168\n",
       "Q     77\n",
       "Name: Embarked, dtype: int64"
      ]
     },
     "execution_count": 9,
     "metadata": {},
     "output_type": "execute_result"
    }
   ],
   "source": [
    "# Sの数が+2されているか確認\n",
    "df_train['Embarked'].value_counts()"
   ]
  },
  {
   "cell_type": "code",
   "execution_count": 10,
   "metadata": {
    "collapsed": true
   },
   "outputs": [],
   "source": [
    "# SibSp:spouses aboard the Titanic(タイタニックに乗船している配偶者)\n",
    "# Parch:children aboard the Titanic(タイタニックに乗船している子供) \n",
    "# これらの和に+1することで世帯数を表現する\n",
    "df_train['Family'] = df_train['SibSp'] + df_train['Parch'] + 1\n",
    "df_test['Family'] = df_test['SibSp'] + df_test['Parch'] + 1"
   ]
  },
  {
   "cell_type": "code",
   "execution_count": 11,
   "metadata": {},
   "outputs": [],
   "source": [
    "# 世帯数=1を1, それ以外の世帯数(2以上）を0とするカラムAloneを作成\n",
    "df_train = df_train.assign(\n",
    "  Alone = (df_train['Family'] == 1).astype(int)\n",
    ")"
   ]
  },
  {
   "cell_type": "code",
   "execution_count": 12,
   "metadata": {},
   "outputs": [],
   "source": [
    "df_test = df_test.assign(\n",
    "    Alone = (df_test['Family'] == 1).astype(int)\n",
    ")"
   ]
  },
  {
   "cell_type": "code",
   "execution_count": 13,
   "metadata": {
    "collapsed": true
   },
   "outputs": [],
   "source": [
    "# Ageの欠損値を中央値で補完\n",
    "df_train['Age'] = df_train['Age'].fillna(df_train['Age'].median())\n",
    "df_test['Age'] = df_test['Age'].fillna(df_test['Age'].median())"
   ]
  },
  {
   "cell_type": "code",
   "execution_count": 14,
   "metadata": {
    "collapsed": true
   },
   "outputs": [],
   "source": [
    "# Fareの欠損値を中央値で補完\n",
    "df_test['Fare'] = df_test['Fare'].fillna(df_test['Fare'].median())"
   ]
  },
  {
   "cell_type": "code",
   "execution_count": 15,
   "metadata": {
    "scrolled": true
   },
   "outputs": [
    {
     "data": {
      "text/html": [
       "<div>\n",
       "<style scoped>\n",
       "    .dataframe tbody tr th:only-of-type {\n",
       "        vertical-align: middle;\n",
       "    }\n",
       "\n",
       "    .dataframe tbody tr th {\n",
       "        vertical-align: top;\n",
       "    }\n",
       "\n",
       "    .dataframe thead th {\n",
       "        text-align: right;\n",
       "    }\n",
       "</style>\n",
       "<table border=\"1\" class=\"dataframe\">\n",
       "  <thead>\n",
       "    <tr style=\"text-align: right;\">\n",
       "      <th>SibSp</th>\n",
       "      <th>0</th>\n",
       "      <th>1</th>\n",
       "      <th>2</th>\n",
       "      <th>3</th>\n",
       "      <th>4</th>\n",
       "      <th>5</th>\n",
       "      <th>8</th>\n",
       "    </tr>\n",
       "    <tr>\n",
       "      <th>Pclass</th>\n",
       "      <th></th>\n",
       "      <th></th>\n",
       "      <th></th>\n",
       "      <th></th>\n",
       "      <th></th>\n",
       "      <th></th>\n",
       "      <th></th>\n",
       "    </tr>\n",
       "  </thead>\n",
       "  <tbody>\n",
       "    <tr>\n",
       "      <th>1</th>\n",
       "      <td>0.562044</td>\n",
       "      <td>0.746479</td>\n",
       "      <td>0.800000</td>\n",
       "      <td>0.666667</td>\n",
       "      <td>NaN</td>\n",
       "      <td>NaN</td>\n",
       "      <td>NaN</td>\n",
       "    </tr>\n",
       "    <tr>\n",
       "      <th>2</th>\n",
       "      <td>0.416667</td>\n",
       "      <td>0.581818</td>\n",
       "      <td>0.500000</td>\n",
       "      <td>1.000000</td>\n",
       "      <td>NaN</td>\n",
       "      <td>NaN</td>\n",
       "      <td>NaN</td>\n",
       "    </tr>\n",
       "    <tr>\n",
       "      <th>3</th>\n",
       "      <td>0.236467</td>\n",
       "      <td>0.325301</td>\n",
       "      <td>0.333333</td>\n",
       "      <td>0.083333</td>\n",
       "      <td>0.166667</td>\n",
       "      <td>0.0</td>\n",
       "      <td>0.0</td>\n",
       "    </tr>\n",
       "  </tbody>\n",
       "</table>\n",
       "</div>"
      ],
      "text/plain": [
       "SibSp          0         1         2         3         4    5    8\n",
       "Pclass                                                            \n",
       "1       0.562044  0.746479  0.800000  0.666667       NaN  NaN  NaN\n",
       "2       0.416667  0.581818  0.500000  1.000000       NaN  NaN  NaN\n",
       "3       0.236467  0.325301  0.333333  0.083333  0.166667  0.0  0.0"
      ]
     },
     "execution_count": 15,
     "metadata": {},
     "output_type": "execute_result"
    }
   ],
   "source": [
    "df_train.pivot_table(index='Pclass', columns='SibSp', values='Survived', aggfunc='mean')"
   ]
  },
  {
   "cell_type": "code",
   "execution_count": 16,
   "metadata": {},
   "outputs": [
    {
     "data": {
      "text/html": [
       "<div>\n",
       "<style scoped>\n",
       "    .dataframe tbody tr th:only-of-type {\n",
       "        vertical-align: middle;\n",
       "    }\n",
       "\n",
       "    .dataframe tbody tr th {\n",
       "        vertical-align: top;\n",
       "    }\n",
       "\n",
       "    .dataframe thead th {\n",
       "        text-align: right;\n",
       "    }\n",
       "</style>\n",
       "<table border=\"1\" class=\"dataframe\">\n",
       "  <thead>\n",
       "    <tr style=\"text-align: right;\">\n",
       "      <th>Parch</th>\n",
       "      <th>0</th>\n",
       "      <th>1</th>\n",
       "      <th>2</th>\n",
       "      <th>3</th>\n",
       "      <th>4</th>\n",
       "      <th>5</th>\n",
       "      <th>6</th>\n",
       "    </tr>\n",
       "    <tr>\n",
       "      <th>Pclass</th>\n",
       "      <th></th>\n",
       "      <th></th>\n",
       "      <th></th>\n",
       "      <th></th>\n",
       "      <th></th>\n",
       "      <th></th>\n",
       "      <th></th>\n",
       "    </tr>\n",
       "  </thead>\n",
       "  <tbody>\n",
       "    <tr>\n",
       "      <th>1</th>\n",
       "      <td>0.607362</td>\n",
       "      <td>0.677419</td>\n",
       "      <td>0.761905</td>\n",
       "      <td>NaN</td>\n",
       "      <td>0.0</td>\n",
       "      <td>NaN</td>\n",
       "      <td>NaN</td>\n",
       "    </tr>\n",
       "    <tr>\n",
       "      <th>2</th>\n",
       "      <td>0.358209</td>\n",
       "      <td>0.750000</td>\n",
       "      <td>0.812500</td>\n",
       "      <td>1.000000</td>\n",
       "      <td>NaN</td>\n",
       "      <td>NaN</td>\n",
       "      <td>NaN</td>\n",
       "    </tr>\n",
       "    <tr>\n",
       "      <th>3</th>\n",
       "      <td>0.225722</td>\n",
       "      <td>0.363636</td>\n",
       "      <td>0.255814</td>\n",
       "      <td>0.333333</td>\n",
       "      <td>0.0</td>\n",
       "      <td>0.2</td>\n",
       "      <td>0.0</td>\n",
       "    </tr>\n",
       "  </tbody>\n",
       "</table>\n",
       "</div>"
      ],
      "text/plain": [
       "Parch          0         1         2         3    4    5    6\n",
       "Pclass                                                       \n",
       "1       0.607362  0.677419  0.761905       NaN  0.0  NaN  NaN\n",
       "2       0.358209  0.750000  0.812500  1.000000  NaN  NaN  NaN\n",
       "3       0.225722  0.363636  0.255814  0.333333  0.0  0.2  0.0"
      ]
     },
     "execution_count": 16,
     "metadata": {},
     "output_type": "execute_result"
    }
   ],
   "source": [
    "df_train.pivot_table(index='Pclass', columns='Parch', values='Survived', aggfunc='mean')"
   ]
  },
  {
   "cell_type": "code",
   "execution_count": 17,
   "metadata": {
    "scrolled": true
   },
   "outputs": [
    {
     "data": {
      "text/html": [
       "<div>\n",
       "<style scoped>\n",
       "    .dataframe tbody tr th:only-of-type {\n",
       "        vertical-align: middle;\n",
       "    }\n",
       "\n",
       "    .dataframe tbody tr th {\n",
       "        vertical-align: top;\n",
       "    }\n",
       "\n",
       "    .dataframe thead th {\n",
       "        text-align: right;\n",
       "    }\n",
       "</style>\n",
       "<table border=\"1\" class=\"dataframe\">\n",
       "  <thead>\n",
       "    <tr style=\"text-align: right;\">\n",
       "      <th>Family</th>\n",
       "      <th>1</th>\n",
       "      <th>2</th>\n",
       "      <th>3</th>\n",
       "      <th>4</th>\n",
       "      <th>5</th>\n",
       "      <th>6</th>\n",
       "      <th>7</th>\n",
       "      <th>8</th>\n",
       "      <th>11</th>\n",
       "    </tr>\n",
       "    <tr>\n",
       "      <th>Pclass</th>\n",
       "      <th></th>\n",
       "      <th></th>\n",
       "      <th></th>\n",
       "      <th></th>\n",
       "      <th></th>\n",
       "      <th></th>\n",
       "      <th></th>\n",
       "      <th></th>\n",
       "      <th></th>\n",
       "    </tr>\n",
       "  </thead>\n",
       "  <tbody>\n",
       "    <tr>\n",
       "      <th>1</th>\n",
       "      <td>0.532110</td>\n",
       "      <td>0.728571</td>\n",
       "      <td>0.750000</td>\n",
       "      <td>0.714286</td>\n",
       "      <td>1.0</td>\n",
       "      <td>0.5</td>\n",
       "      <td>NaN</td>\n",
       "      <td>NaN</td>\n",
       "      <td>NaN</td>\n",
       "    </tr>\n",
       "    <tr>\n",
       "      <th>2</th>\n",
       "      <td>0.346154</td>\n",
       "      <td>0.529412</td>\n",
       "      <td>0.677419</td>\n",
       "      <td>0.769231</td>\n",
       "      <td>1.0</td>\n",
       "      <td>1.0</td>\n",
       "      <td>NaN</td>\n",
       "      <td>NaN</td>\n",
       "      <td>NaN</td>\n",
       "    </tr>\n",
       "    <tr>\n",
       "      <th>3</th>\n",
       "      <td>0.212963</td>\n",
       "      <td>0.350877</td>\n",
       "      <td>0.425532</td>\n",
       "      <td>0.666667</td>\n",
       "      <td>0.0</td>\n",
       "      <td>0.0</td>\n",
       "      <td>0.333333</td>\n",
       "      <td>0.0</td>\n",
       "      <td>0.0</td>\n",
       "    </tr>\n",
       "  </tbody>\n",
       "</table>\n",
       "</div>"
      ],
      "text/plain": [
       "Family        1         2         3         4    5    6         7    8    11\n",
       "Pclass                                                                      \n",
       "1       0.532110  0.728571  0.750000  0.714286  1.0  0.5       NaN  NaN  NaN\n",
       "2       0.346154  0.529412  0.677419  0.769231  1.0  1.0       NaN  NaN  NaN\n",
       "3       0.212963  0.350877  0.425532  0.666667  0.0  0.0  0.333333  0.0  0.0"
      ]
     },
     "execution_count": 17,
     "metadata": {},
     "output_type": "execute_result"
    }
   ],
   "source": [
    "# Pclass×Familyのクロス集計でSurvivedの値の平均値を確認\n",
    "df_train.pivot_table(index='Pclass', columns='Family', values='Survived', aggfunc='mean')"
   ]
  },
  {
   "cell_type": "code",
   "execution_count": 18,
   "metadata": {},
   "outputs": [
    {
     "data": {
      "text/html": [
       "<div>\n",
       "<style scoped>\n",
       "    .dataframe tbody tr th:only-of-type {\n",
       "        vertical-align: middle;\n",
       "    }\n",
       "\n",
       "    .dataframe tbody tr th {\n",
       "        vertical-align: top;\n",
       "    }\n",
       "\n",
       "    .dataframe thead th {\n",
       "        text-align: right;\n",
       "    }\n",
       "</style>\n",
       "<table border=\"1\" class=\"dataframe\">\n",
       "  <thead>\n",
       "    <tr style=\"text-align: right;\">\n",
       "      <th>Sex</th>\n",
       "      <th>female</th>\n",
       "      <th>male</th>\n",
       "    </tr>\n",
       "    <tr>\n",
       "      <th>Pclass</th>\n",
       "      <th></th>\n",
       "      <th></th>\n",
       "    </tr>\n",
       "  </thead>\n",
       "  <tbody>\n",
       "    <tr>\n",
       "      <th>1</th>\n",
       "      <td>0.968085</td>\n",
       "      <td>0.368852</td>\n",
       "    </tr>\n",
       "    <tr>\n",
       "      <th>2</th>\n",
       "      <td>0.921053</td>\n",
       "      <td>0.157407</td>\n",
       "    </tr>\n",
       "    <tr>\n",
       "      <th>3</th>\n",
       "      <td>0.500000</td>\n",
       "      <td>0.135447</td>\n",
       "    </tr>\n",
       "  </tbody>\n",
       "</table>\n",
       "</div>"
      ],
      "text/plain": [
       "Sex       female      male\n",
       "Pclass                    \n",
       "1       0.968085  0.368852\n",
       "2       0.921053  0.157407\n",
       "3       0.500000  0.135447"
      ]
     },
     "execution_count": 18,
     "metadata": {},
     "output_type": "execute_result"
    }
   ],
   "source": [
    "df_train.pivot_table(index='Pclass', columns='Sex', values='Survived', aggfunc='mean')"
   ]
  },
  {
   "cell_type": "code",
   "execution_count": 19,
   "metadata": {},
   "outputs": [
    {
     "data": {
      "text/plain": [
       "['Braund, Mr. Owen Harris',\n",
       " 'Cumings, Mrs. John Bradley (Florence Briggs Thayer)',\n",
       " 'Heikkinen, Miss. Laina',\n",
       " 'Futrelle, Mrs. Jacques Heath (Lily May Peel)',\n",
       " 'Allen, Mr. William Henry']"
      ]
     },
     "execution_count": 19,
     "metadata": {},
     "output_type": "execute_result"
    }
   ],
   "source": [
    "# df_train['Name']のみだとSeries型になる\n",
    "# Series型をlist型にするときにはtolist()関数を使用\n",
    "df_train['Name'].tolist()[:5]"
   ]
  },
  {
   "cell_type": "code",
   "execution_count": 21,
   "metadata": {},
   "outputs": [],
   "source": [
    "# NaNはfloatなので\n",
    "df_train['Has_Cabin'] = df_train['Cabin'].apply(lambda x: 0 if type(x) == float else 1)\n",
    "df_test['Has_Cabin'] = df_test['Cabin'].apply(lambda x: 0 if type(x) == float else 1)"
   ]
  },
  {
   "cell_type": "code",
   "execution_count": 22,
   "metadata": {
    "collapsed": true
   },
   "outputs": [],
   "source": [
    "# 文字型データをダミー変換\n",
    "# df_train['Sex'] = pd.get_dummies(df_train['Sex'])\n",
    "df_train['Embarked'] = pd.get_dummies(df_train['Embarked'])\n",
    "# df_test['Sex'] = pd.get_dummies(df_test['Sex'])\n",
    "df_test['Embarked'] = pd.get_dummies(df_test['Embarked'])"
   ]
  },
  {
   "cell_type": "code",
   "execution_count": 23,
   "metadata": {
    "collapsed": true,
    "scrolled": true
   },
   "outputs": [],
   "source": [
    "# 処理が難しいカラムはいったん削除\n",
    "df_train = df_train.drop(['Name', 'Ticket', 'Cabin'], axis=1)\n",
    "df_test = df_test.drop(['Name', 'Ticket', 'Cabin'], axis=1)"
   ]
  },
  {
   "cell_type": "code",
   "execution_count": 24,
   "metadata": {
    "scrolled": true
   },
   "outputs": [
    {
     "name": "stdout",
     "output_type": "stream",
     "text": [
      "PassengerId    0\n",
      "Survived       0\n",
      "Pclass         0\n",
      "Sex            0\n",
      "Age            0\n",
      "SibSp          0\n",
      "Parch          0\n",
      "Fare           0\n",
      "Embarked       0\n",
      "Family         0\n",
      "Alone          0\n",
      "Has_Cabin      0\n",
      "dtype: int64\n",
      "PassengerId    0\n",
      "Survived       0\n",
      "Pclass         0\n",
      "Sex            0\n",
      "Age            0\n",
      "SibSp          0\n",
      "Parch          0\n",
      "Fare           0\n",
      "Embarked       0\n",
      "Family         0\n",
      "Alone          0\n",
      "Has_Cabin      0\n",
      "dtype: int64\n"
     ]
    }
   ],
   "source": [
    "# 上記処理で欠損値が消えたかどうか確認\n",
    "print(df_train.isnull().sum())\n",
    "print(df_train.isnull().sum())"
   ]
  },
  {
   "cell_type": "code",
   "execution_count": 25,
   "metadata": {
    "collapsed": true
   },
   "outputs": [],
   "source": [
    "first_female = []\n",
    "\n",
    "for i in range(len(df_train)):\n",
    "    data = df_train.iloc[i, :]\n",
    "    if data['Pclass'] == 1 and data['Sex'] == 'female':\n",
    "        first_female.append(1)\n",
    "    else:\n",
    "        first_female.append(0)\n",
    "df_train['first_female'] = first_female"
   ]
  },
  {
   "cell_type": "code",
   "execution_count": 26,
   "metadata": {
    "collapsed": true
   },
   "outputs": [],
   "source": [
    "second_female = []\n",
    "\n",
    "for i in range(len(df_train)):\n",
    "    data = df_train.iloc[i, :]\n",
    "    if data['Pclass'] == 2 and data['Sex'] == 'female':\n",
    "        second_female.append(1)\n",
    "    else:\n",
    "        second_female.append(0)\n",
    "df_train['second_female'] = second_female"
   ]
  },
  {
   "cell_type": "code",
   "execution_count": 27,
   "metadata": {
    "collapsed": true
   },
   "outputs": [],
   "source": [
    "third_female = []\n",
    "\n",
    "for i in range(len(df_train)):\n",
    "    data = df_train.iloc[i, :]\n",
    "    if data['Pclass'] == 3 and data['Sex'] == 'female':\n",
    "        third_female.append(1)\n",
    "    else:\n",
    "        third_female.append(0)\n",
    "df_train['third_female'] = third_female"
   ]
  },
  {
   "cell_type": "code",
   "execution_count": 28,
   "metadata": {
    "collapsed": true
   },
   "outputs": [],
   "source": [
    "first_male = []\n",
    "\n",
    "for i in range(len(df_train)):\n",
    "    data = df_train.iloc[i, :]\n",
    "    if data['Pclass'] == 1 and data['Sex'] == 'male':\n",
    "        first_male.append(1)\n",
    "    else:\n",
    "        first_male.append(0)\n",
    "df_train['first_male'] = first_male"
   ]
  },
  {
   "cell_type": "code",
   "execution_count": 29,
   "metadata": {
    "collapsed": true
   },
   "outputs": [],
   "source": [
    "second_male = []\n",
    "\n",
    "for i in range(len(df_train)):\n",
    "    data = df_train.iloc[i, :]\n",
    "    if data['Pclass'] == 2 and data['Sex'] == 'male':\n",
    "        second_male.append(1)\n",
    "    else:\n",
    "        second_male.append(0)\n",
    "df_train['second_male'] = second_male"
   ]
  },
  {
   "cell_type": "code",
   "execution_count": 30,
   "metadata": {
    "collapsed": true
   },
   "outputs": [],
   "source": [
    "third_male = []\n",
    "\n",
    "for i in range(len(df_train)):\n",
    "    data = df_train.iloc[i, :]\n",
    "    if data['Pclass'] == 3 and data['Sex'] == 'male':\n",
    "        third_male.append(1)\n",
    "    else:\n",
    "        third_male.append(0)\n",
    "df_train['third_male'] = third_male"
   ]
  },
  {
   "cell_type": "code",
   "execution_count": 31,
   "metadata": {
    "collapsed": true
   },
   "outputs": [],
   "source": [
    "first_female2 = []\n",
    "\n",
    "for i in range(len(df_test)):\n",
    "    data = df_test.iloc[i, :]\n",
    "    if data['Pclass'] == 1 and data['Sex'] == 'female':\n",
    "        first_female2.append(1)\n",
    "    else:\n",
    "        first_female2.append(0)\n",
    "df_test['first_female'] = first_female2"
   ]
  },
  {
   "cell_type": "code",
   "execution_count": 32,
   "metadata": {
    "collapsed": true
   },
   "outputs": [],
   "source": [
    "second_female2 = []\n",
    "\n",
    "for i in range(len(df_test)):\n",
    "    data = df_test.iloc[i, :]\n",
    "    if data['Pclass'] == 2 and data['Sex'] == 'female':\n",
    "        second_female2.append(1)\n",
    "    else:\n",
    "        second_female2.append(0)\n",
    "df_test['second_female'] = second_female2"
   ]
  },
  {
   "cell_type": "code",
   "execution_count": 33,
   "metadata": {
    "collapsed": true
   },
   "outputs": [],
   "source": [
    "third_female2 = []\n",
    "\n",
    "for i in range(len(df_test)):\n",
    "    data = df_test.iloc[i, :]\n",
    "    if data['Pclass'] == 3 and data['Sex'] == 'female':\n",
    "        third_female2.append(1)\n",
    "    else:\n",
    "        third_female2.append(0)\n",
    "df_test['third_female'] = third_female2"
   ]
  },
  {
   "cell_type": "code",
   "execution_count": 34,
   "metadata": {
    "collapsed": true
   },
   "outputs": [],
   "source": [
    "first_male2 = []\n",
    "\n",
    "for i in range(len(df_test)):\n",
    "    data = df_test.iloc[i, :]\n",
    "    if data['Pclass'] == 1 and data['Sex'] == 'male':\n",
    "        first_male2.append(1)\n",
    "    else:\n",
    "        first_male2.append(0)\n",
    "df_test['first_male'] = first_male2"
   ]
  },
  {
   "cell_type": "code",
   "execution_count": 35,
   "metadata": {
    "collapsed": true
   },
   "outputs": [],
   "source": [
    "second_male2 = []\n",
    "\n",
    "for i in range(len(df_test)):\n",
    "    data = df_test.iloc[i, :]\n",
    "    if data['Pclass'] == 2 and data['Sex'] == 'male':\n",
    "        second_male2.append(1)\n",
    "    else:\n",
    "        second_male2.append(0)\n",
    "df_test['second_male'] = second_male2"
   ]
  },
  {
   "cell_type": "code",
   "execution_count": 36,
   "metadata": {
    "collapsed": true
   },
   "outputs": [],
   "source": [
    "third_male2 = []\n",
    "\n",
    "for i in range(len(df_test)):\n",
    "    data = df_test.iloc[i, :]\n",
    "    if data['Pclass'] == 3 and data['Sex'] == 'male':\n",
    "        third_male2.append(1)\n",
    "    else:\n",
    "        third_male2.append(0)\n",
    "df_test['third_male'] = third_male2"
   ]
  },
  {
   "cell_type": "code",
   "execution_count": 37,
   "metadata": {
    "collapsed": true
   },
   "outputs": [],
   "source": [
    "# Pclass×Sexの値を格納する新しいカラムの準備\n",
    "# male=1, female=-1に変換\n",
    "df_train['Sex'] = df_train['Sex'].replace('male', 1).replace('female', -1 )\n",
    "df_test['Sex'] = df_test['Sex'].replace('male', 1).replace('female', -1 )"
   ]
  },
  {
   "cell_type": "code",
   "execution_count": 38,
   "metadata": {
    "collapsed": true
   },
   "outputs": [],
   "source": [
    "# Pclass の値にSexの値を加えた新しいカラムPSを作成\n",
    "# female=-1にすることでdf_train['Pclass'] + df_train['Sex']とすることで階級が高い女性ほど値が小さくなるようにする\n",
    "df_train['PS'] = df_train['Pclass'] + df_train['Sex']\n",
    "df_test['PS'] = df_test['Pclass'] + df_test['Sex']"
   ]
  },
  {
   "cell_type": "code",
   "execution_count": 39,
   "metadata": {
    "collapsed": true
   },
   "outputs": [],
   "source": [
    "# ダミー変数がマイナスのままだと予測結果に影響する？ので0,1データにする\n",
    "# replaceする元データが数値データのときはクォーテーション指定する必要なし\n",
    "df_train['Sex'] = df_train['Sex'].replace(1, 1).replace(-1, 0 )\n",
    "df_test['Sex'] = df_test['Sex'].replace(1, 1).replace(-1, 0 )"
   ]
  },
  {
   "cell_type": "code",
   "execution_count": 40,
   "metadata": {
    "collapsed": true,
    "scrolled": true
   },
   "outputs": [],
   "source": [
    "# 15歳以下かどうかを示すカラム「Child」を作成\n",
    "# カラムの追加にはassign関数\n",
    "# ダミー変数にするためにastype(int)を付ける\n",
    "df_train = df_train.assign(Child = (df_train['Age'] < 16).astype(int))\n",
    "df_test = df_test.assign(Child = (df_test['Age'] < 16).astype(int))"
   ]
  },
  {
   "cell_type": "code",
   "execution_count": 41,
   "metadata": {
    "scrolled": true
   },
   "outputs": [],
   "source": [
    "df_train = df_train.assign(\n",
    "    wealthy_class = (df_train['Fare'] > 50).astype(int)\n",
    ")"
   ]
  },
  {
   "cell_type": "code",
   "execution_count": 42,
   "metadata": {
    "collapsed": true
   },
   "outputs": [],
   "source": [
    "df_test = df_test.assign(\n",
    "  wealthy_class = (df_test['Fare'] > 50).astype(int)\n",
    ")"
   ]
  },
  {
   "cell_type": "code",
   "execution_count": 43,
   "metadata": {},
   "outputs": [
    {
     "data": {
      "text/html": [
       "<div>\n",
       "<style scoped>\n",
       "    .dataframe tbody tr th:only-of-type {\n",
       "        vertical-align: middle;\n",
       "    }\n",
       "\n",
       "    .dataframe tbody tr th {\n",
       "        vertical-align: top;\n",
       "    }\n",
       "\n",
       "    .dataframe thead th {\n",
       "        text-align: right;\n",
       "    }\n",
       "</style>\n",
       "<table border=\"1\" class=\"dataframe\">\n",
       "  <thead>\n",
       "    <tr style=\"text-align: right;\">\n",
       "      <th></th>\n",
       "      <th>PassengerId</th>\n",
       "      <th>Pclass</th>\n",
       "      <th>Sex</th>\n",
       "      <th>Age</th>\n",
       "      <th>SibSp</th>\n",
       "      <th>Parch</th>\n",
       "      <th>Fare</th>\n",
       "      <th>Embarked</th>\n",
       "      <th>Family</th>\n",
       "      <th>Alone</th>\n",
       "      <th>Has_Cabin</th>\n",
       "      <th>first_female</th>\n",
       "      <th>second_female</th>\n",
       "      <th>third_female</th>\n",
       "      <th>first_male</th>\n",
       "      <th>second_male</th>\n",
       "      <th>third_male</th>\n",
       "      <th>PS</th>\n",
       "      <th>Child</th>\n",
       "      <th>wealthy_class</th>\n",
       "    </tr>\n",
       "  </thead>\n",
       "  <tbody>\n",
       "    <tr>\n",
       "      <th>0</th>\n",
       "      <td>892</td>\n",
       "      <td>3</td>\n",
       "      <td>1</td>\n",
       "      <td>34.5</td>\n",
       "      <td>0</td>\n",
       "      <td>0</td>\n",
       "      <td>7.8292</td>\n",
       "      <td>0</td>\n",
       "      <td>1</td>\n",
       "      <td>1</td>\n",
       "      <td>0</td>\n",
       "      <td>0</td>\n",
       "      <td>0</td>\n",
       "      <td>0</td>\n",
       "      <td>0</td>\n",
       "      <td>0</td>\n",
       "      <td>1</td>\n",
       "      <td>4</td>\n",
       "      <td>0</td>\n",
       "      <td>0</td>\n",
       "    </tr>\n",
       "    <tr>\n",
       "      <th>1</th>\n",
       "      <td>893</td>\n",
       "      <td>3</td>\n",
       "      <td>0</td>\n",
       "      <td>47.0</td>\n",
       "      <td>1</td>\n",
       "      <td>0</td>\n",
       "      <td>7.0000</td>\n",
       "      <td>0</td>\n",
       "      <td>2</td>\n",
       "      <td>0</td>\n",
       "      <td>0</td>\n",
       "      <td>0</td>\n",
       "      <td>0</td>\n",
       "      <td>1</td>\n",
       "      <td>0</td>\n",
       "      <td>0</td>\n",
       "      <td>0</td>\n",
       "      <td>2</td>\n",
       "      <td>0</td>\n",
       "      <td>0</td>\n",
       "    </tr>\n",
       "    <tr>\n",
       "      <th>2</th>\n",
       "      <td>894</td>\n",
       "      <td>2</td>\n",
       "      <td>1</td>\n",
       "      <td>62.0</td>\n",
       "      <td>0</td>\n",
       "      <td>0</td>\n",
       "      <td>9.6875</td>\n",
       "      <td>0</td>\n",
       "      <td>1</td>\n",
       "      <td>1</td>\n",
       "      <td>0</td>\n",
       "      <td>0</td>\n",
       "      <td>0</td>\n",
       "      <td>0</td>\n",
       "      <td>0</td>\n",
       "      <td>1</td>\n",
       "      <td>0</td>\n",
       "      <td>3</td>\n",
       "      <td>0</td>\n",
       "      <td>0</td>\n",
       "    </tr>\n",
       "    <tr>\n",
       "      <th>3</th>\n",
       "      <td>895</td>\n",
       "      <td>3</td>\n",
       "      <td>1</td>\n",
       "      <td>27.0</td>\n",
       "      <td>0</td>\n",
       "      <td>0</td>\n",
       "      <td>8.6625</td>\n",
       "      <td>0</td>\n",
       "      <td>1</td>\n",
       "      <td>1</td>\n",
       "      <td>0</td>\n",
       "      <td>0</td>\n",
       "      <td>0</td>\n",
       "      <td>0</td>\n",
       "      <td>0</td>\n",
       "      <td>0</td>\n",
       "      <td>1</td>\n",
       "      <td>4</td>\n",
       "      <td>0</td>\n",
       "      <td>0</td>\n",
       "    </tr>\n",
       "    <tr>\n",
       "      <th>4</th>\n",
       "      <td>896</td>\n",
       "      <td>3</td>\n",
       "      <td>0</td>\n",
       "      <td>22.0</td>\n",
       "      <td>1</td>\n",
       "      <td>1</td>\n",
       "      <td>12.2875</td>\n",
       "      <td>0</td>\n",
       "      <td>3</td>\n",
       "      <td>0</td>\n",
       "      <td>0</td>\n",
       "      <td>0</td>\n",
       "      <td>0</td>\n",
       "      <td>1</td>\n",
       "      <td>0</td>\n",
       "      <td>0</td>\n",
       "      <td>0</td>\n",
       "      <td>2</td>\n",
       "      <td>0</td>\n",
       "      <td>0</td>\n",
       "    </tr>\n",
       "  </tbody>\n",
       "</table>\n",
       "</div>"
      ],
      "text/plain": [
       "   PassengerId  Pclass  Sex   Age  SibSp  Parch     Fare  Embarked  Family  \\\n",
       "0          892       3    1  34.5      0      0   7.8292         0       1   \n",
       "1          893       3    0  47.0      1      0   7.0000         0       2   \n",
       "2          894       2    1  62.0      0      0   9.6875         0       1   \n",
       "3          895       3    1  27.0      0      0   8.6625         0       1   \n",
       "4          896       3    0  22.0      1      1  12.2875         0       3   \n",
       "\n",
       "   Alone  Has_Cabin  first_female  second_female  third_female  first_male  \\\n",
       "0      1          0             0              0             0           0   \n",
       "1      0          0             0              0             1           0   \n",
       "2      1          0             0              0             0           0   \n",
       "3      1          0             0              0             0           0   \n",
       "4      0          0             0              0             1           0   \n",
       "\n",
       "   second_male  third_male  PS  Child  wealthy_class  \n",
       "0            0           1   4      0              0  \n",
       "1            0           0   2      0              0  \n",
       "2            1           0   3      0              0  \n",
       "3            0           1   4      0              0  \n",
       "4            0           0   2      0              0  "
      ]
     },
     "execution_count": 43,
     "metadata": {},
     "output_type": "execute_result"
    }
   ],
   "source": [
    "df_test.head()"
   ]
  },
  {
   "cell_type": "code",
   "execution_count": 44,
   "metadata": {
    "scrolled": true
   },
   "outputs": [
    {
     "data": {
      "text/html": [
       "<div>\n",
       "<style scoped>\n",
       "    .dataframe tbody tr th:only-of-type {\n",
       "        vertical-align: middle;\n",
       "    }\n",
       "\n",
       "    .dataframe tbody tr th {\n",
       "        vertical-align: top;\n",
       "    }\n",
       "\n",
       "    .dataframe thead th {\n",
       "        text-align: right;\n",
       "    }\n",
       "</style>\n",
       "<table border=\"1\" class=\"dataframe\">\n",
       "  <thead>\n",
       "    <tr style=\"text-align: right;\">\n",
       "      <th></th>\n",
       "      <th>PassengerId</th>\n",
       "      <th>Survived</th>\n",
       "      <th>Pclass</th>\n",
       "      <th>Sex</th>\n",
       "      <th>Age</th>\n",
       "      <th>SibSp</th>\n",
       "      <th>Parch</th>\n",
       "      <th>Fare</th>\n",
       "      <th>Embarked</th>\n",
       "      <th>Family</th>\n",
       "      <th>...</th>\n",
       "      <th>Has_Cabin</th>\n",
       "      <th>first_female</th>\n",
       "      <th>second_female</th>\n",
       "      <th>third_female</th>\n",
       "      <th>first_male</th>\n",
       "      <th>second_male</th>\n",
       "      <th>third_male</th>\n",
       "      <th>PS</th>\n",
       "      <th>Child</th>\n",
       "      <th>wealthy_class</th>\n",
       "    </tr>\n",
       "  </thead>\n",
       "  <tbody>\n",
       "    <tr>\n",
       "      <th>PassengerId</th>\n",
       "      <td>1.000000</td>\n",
       "      <td>-0.005007</td>\n",
       "      <td>-0.035144</td>\n",
       "      <td>0.042939</td>\n",
       "      <td>0.034212</td>\n",
       "      <td>-0.057527</td>\n",
       "      <td>-0.001652</td>\n",
       "      <td>0.012658</td>\n",
       "      <td>-0.001205</td>\n",
       "      <td>-0.040143</td>\n",
       "      <td>...</td>\n",
       "      <td>0.019919</td>\n",
       "      <td>0.030994</td>\n",
       "      <td>-0.003437</td>\n",
       "      <td>-0.078984</td>\n",
       "      <td>0.015067</td>\n",
       "      <td>0.002834</td>\n",
       "      <td>0.029548</td>\n",
       "      <td>0.008638</td>\n",
       "      <td>-0.017941</td>\n",
       "      <td>0.009686</td>\n",
       "    </tr>\n",
       "    <tr>\n",
       "      <th>Survived</th>\n",
       "      <td>-0.005007</td>\n",
       "      <td>1.000000</td>\n",
       "      <td>-0.338481</td>\n",
       "      <td>-0.543351</td>\n",
       "      <td>-0.064910</td>\n",
       "      <td>-0.035322</td>\n",
       "      <td>0.081629</td>\n",
       "      <td>0.257307</td>\n",
       "      <td>0.168240</td>\n",
       "      <td>0.016639</td>\n",
       "      <td>...</td>\n",
       "      <td>0.316912</td>\n",
       "      <td>0.412581</td>\n",
       "      <td>0.337329</td>\n",
       "      <td>0.104873</td>\n",
       "      <td>-0.012274</td>\n",
       "      <td>-0.172920</td>\n",
       "      <td>-0.407925</td>\n",
       "      <td>-0.594185</td>\n",
       "      <td>0.136107</td>\n",
       "      <td>0.286113</td>\n",
       "    </tr>\n",
       "    <tr>\n",
       "      <th>Pclass</th>\n",
       "      <td>-0.035144</td>\n",
       "      <td>-0.338481</td>\n",
       "      <td>1.000000</td>\n",
       "      <td>0.131900</td>\n",
       "      <td>-0.339898</td>\n",
       "      <td>0.083081</td>\n",
       "      <td>0.018443</td>\n",
       "      <td>-0.549500</td>\n",
       "      <td>-0.243292</td>\n",
       "      <td>0.065997</td>\n",
       "      <td>...</td>\n",
       "      <td>-0.725541</td>\n",
       "      <td>-0.537844</td>\n",
       "      <td>-0.112793</td>\n",
       "      <td>0.363266</td>\n",
       "      <td>-0.623790</td>\n",
       "      <td>-0.137179</td>\n",
       "      <td>0.660798</td>\n",
       "      <td>0.712469</td>\n",
       "      <td>0.121920</td>\n",
       "      <td>-0.610218</td>\n",
       "    </tr>\n",
       "    <tr>\n",
       "      <th>Sex</th>\n",
       "      <td>0.042939</td>\n",
       "      <td>-0.543351</td>\n",
       "      <td>0.131900</td>\n",
       "      <td>1.000000</td>\n",
       "      <td>0.081163</td>\n",
       "      <td>-0.114631</td>\n",
       "      <td>-0.245489</td>\n",
       "      <td>-0.182333</td>\n",
       "      <td>-0.082853</td>\n",
       "      <td>-0.200988</td>\n",
       "      <td>...</td>\n",
       "      <td>-0.140391</td>\n",
       "      <td>-0.465541</td>\n",
       "      <td>-0.413953</td>\n",
       "      <td>-0.595174</td>\n",
       "      <td>0.293828</td>\n",
       "      <td>0.273973</td>\n",
       "      <td>0.589172</td>\n",
       "      <td>0.789548</td>\n",
       "      <td>-0.111141</td>\n",
       "      <td>-0.187381</td>\n",
       "    </tr>\n",
       "    <tr>\n",
       "      <th>Age</th>\n",
       "      <td>0.034212</td>\n",
       "      <td>-0.064910</td>\n",
       "      <td>-0.339898</td>\n",
       "      <td>0.081163</td>\n",
       "      <td>1.000000</td>\n",
       "      <td>-0.233296</td>\n",
       "      <td>-0.172482</td>\n",
       "      <td>0.096688</td>\n",
       "      <td>0.030248</td>\n",
       "      <td>-0.245619</td>\n",
       "      <td>...</td>\n",
       "      <td>0.240314</td>\n",
       "      <td>0.121857</td>\n",
       "      <td>-0.015433</td>\n",
       "      <td>-0.195318</td>\n",
       "      <td>0.294884</td>\n",
       "      <td>0.032843</td>\n",
       "      <td>-0.150357</td>\n",
       "      <td>-0.152976</td>\n",
       "      <td>-0.566310</td>\n",
       "      <td>0.168324</td>\n",
       "    </tr>\n",
       "    <tr>\n",
       "      <th>SibSp</th>\n",
       "      <td>-0.057527</td>\n",
       "      <td>-0.035322</td>\n",
       "      <td>0.083081</td>\n",
       "      <td>-0.114631</td>\n",
       "      <td>-0.233296</td>\n",
       "      <td>1.000000</td>\n",
       "      <td>0.414838</td>\n",
       "      <td>0.159651</td>\n",
       "      <td>-0.059528</td>\n",
       "      <td>0.890712</td>\n",
       "      <td>...</td>\n",
       "      <td>-0.040460</td>\n",
       "      <td>0.009405</td>\n",
       "      <td>-0.010021</td>\n",
       "      <td>0.148524</td>\n",
       "      <td>-0.076447</td>\n",
       "      <td>-0.060796</td>\n",
       "      <td>-0.017717</td>\n",
       "      <td>-0.029710</td>\n",
       "      <td>0.352437</td>\n",
       "      <td>0.183908</td>\n",
       "    </tr>\n",
       "    <tr>\n",
       "      <th>Parch</th>\n",
       "      <td>-0.001652</td>\n",
       "      <td>0.081629</td>\n",
       "      <td>0.018443</td>\n",
       "      <td>-0.245489</td>\n",
       "      <td>-0.172482</td>\n",
       "      <td>0.414838</td>\n",
       "      <td>1.000000</td>\n",
       "      <td>0.216225</td>\n",
       "      <td>-0.011069</td>\n",
       "      <td>0.783111</td>\n",
       "      <td>...</td>\n",
       "      <td>0.036987</td>\n",
       "      <td>0.032336</td>\n",
       "      <td>0.084784</td>\n",
       "      <td>0.227276</td>\n",
       "      <td>-0.050878</td>\n",
       "      <td>-0.073472</td>\n",
       "      <td>-0.155459</td>\n",
       "      <td>-0.162361</td>\n",
       "      <td>0.351481</td>\n",
       "      <td>0.101429</td>\n",
       "    </tr>\n",
       "    <tr>\n",
       "      <th>Fare</th>\n",
       "      <td>0.012658</td>\n",
       "      <td>0.257307</td>\n",
       "      <td>-0.549500</td>\n",
       "      <td>-0.182333</td>\n",
       "      <td>0.096688</td>\n",
       "      <td>0.159651</td>\n",
       "      <td>0.216225</td>\n",
       "      <td>1.000000</td>\n",
       "      <td>0.269335</td>\n",
       "      <td>0.217138</td>\n",
       "      <td>...</td>\n",
       "      <td>0.482075</td>\n",
       "      <td>0.511153</td>\n",
       "      <td>-0.062925</td>\n",
       "      <td>-0.142199</td>\n",
       "      <td>0.280868</td>\n",
       "      <td>-0.093192</td>\n",
       "      <td>-0.314262</td>\n",
       "      <td>-0.469265</td>\n",
       "      <td>0.003753</td>\n",
       "      <td>0.716845</td>\n",
       "    </tr>\n",
       "    <tr>\n",
       "      <th>Embarked</th>\n",
       "      <td>-0.001205</td>\n",
       "      <td>0.168240</td>\n",
       "      <td>-0.243292</td>\n",
       "      <td>-0.082853</td>\n",
       "      <td>0.030248</td>\n",
       "      <td>-0.059528</td>\n",
       "      <td>-0.011069</td>\n",
       "      <td>0.269335</td>\n",
       "      <td>1.000000</td>\n",
       "      <td>-0.046215</td>\n",
       "      <td>...</td>\n",
       "      <td>0.208528</td>\n",
       "      <td>0.236086</td>\n",
       "      <td>-0.075296</td>\n",
       "      <td>-0.032361</td>\n",
       "      <td>0.158558</td>\n",
       "      <td>-0.091112</td>\n",
       "      <td>-0.131969</td>\n",
       "      <td>-0.209273</td>\n",
       "      <td>0.023201</td>\n",
       "      <td>0.230479</td>\n",
       "    </tr>\n",
       "    <tr>\n",
       "      <th>Family</th>\n",
       "      <td>-0.040143</td>\n",
       "      <td>0.016639</td>\n",
       "      <td>0.065997</td>\n",
       "      <td>-0.200988</td>\n",
       "      <td>-0.245619</td>\n",
       "      <td>0.890712</td>\n",
       "      <td>0.783111</td>\n",
       "      <td>0.217138</td>\n",
       "      <td>-0.046215</td>\n",
       "      <td>1.000000</td>\n",
       "      <td>...</td>\n",
       "      <td>-0.009175</td>\n",
       "      <td>0.022583</td>\n",
       "      <td>0.035508</td>\n",
       "      <td>0.215054</td>\n",
       "      <td>-0.077667</td>\n",
       "      <td>-0.078257</td>\n",
       "      <td>-0.089774</td>\n",
       "      <td>-0.101419</td>\n",
       "      <td>0.416472</td>\n",
       "      <td>0.176367</td>\n",
       "    </tr>\n",
       "    <tr>\n",
       "      <th>Alone</th>\n",
       "      <td>0.057462</td>\n",
       "      <td>-0.203367</td>\n",
       "      <td>0.135207</td>\n",
       "      <td>0.303646</td>\n",
       "      <td>0.171647</td>\n",
       "      <td>-0.584471</td>\n",
       "      <td>-0.583398</td>\n",
       "      <td>-0.271832</td>\n",
       "      <td>-0.095298</td>\n",
       "      <td>-0.690922</td>\n",
       "      <td>...</td>\n",
       "      <td>-0.158029</td>\n",
       "      <td>-0.169132</td>\n",
       "      <td>-0.113352</td>\n",
       "      <td>-0.166911</td>\n",
       "      <td>0.009817</td>\n",
       "      <td>0.048553</td>\n",
       "      <td>0.258061</td>\n",
       "      <td>0.298654</td>\n",
       "      <td>-0.347400</td>\n",
       "      <td>-0.301348</td>\n",
       "    </tr>\n",
       "    <tr>\n",
       "      <th>Has_Cabin</th>\n",
       "      <td>0.019919</td>\n",
       "      <td>0.316912</td>\n",
       "      <td>-0.725541</td>\n",
       "      <td>-0.140391</td>\n",
       "      <td>0.240314</td>\n",
       "      <td>-0.040460</td>\n",
       "      <td>0.036987</td>\n",
       "      <td>0.482075</td>\n",
       "      <td>0.208528</td>\n",
       "      <td>-0.009175</td>\n",
       "      <td>...</td>\n",
       "      <td>1.000000</td>\n",
       "      <td>0.517188</td>\n",
       "      <td>-0.070773</td>\n",
       "      <td>-0.195713</td>\n",
       "      <td>0.521137</td>\n",
       "      <td>-0.153273</td>\n",
       "      <td>-0.402345</td>\n",
       "      <td>-0.548562</td>\n",
       "      <td>-0.055174</td>\n",
       "      <td>0.587135</td>\n",
       "    </tr>\n",
       "    <tr>\n",
       "      <th>first_female</th>\n",
       "      <td>0.030994</td>\n",
       "      <td>0.412581</td>\n",
       "      <td>-0.537844</td>\n",
       "      <td>-0.465541</td>\n",
       "      <td>0.121857</td>\n",
       "      <td>0.009405</td>\n",
       "      <td>0.032336</td>\n",
       "      <td>0.511153</td>\n",
       "      <td>0.236086</td>\n",
       "      <td>0.022583</td>\n",
       "      <td>...</td>\n",
       "      <td>0.517188</td>\n",
       "      <td>1.000000</td>\n",
       "      <td>-0.104873</td>\n",
       "      <td>-0.150784</td>\n",
       "      <td>-0.136789</td>\n",
       "      <td>-0.127546</td>\n",
       "      <td>-0.274284</td>\n",
       "      <td>-0.662529</td>\n",
       "      <td>-0.072359</td>\n",
       "      <td>0.619842</td>\n",
       "    </tr>\n",
       "    <tr>\n",
       "      <th>second_female</th>\n",
       "      <td>-0.003437</td>\n",
       "      <td>0.337329</td>\n",
       "      <td>-0.112793</td>\n",
       "      <td>-0.413953</td>\n",
       "      <td>-0.015433</td>\n",
       "      <td>-0.010021</td>\n",
       "      <td>0.084784</td>\n",
       "      <td>-0.062925</td>\n",
       "      <td>-0.075296</td>\n",
       "      <td>0.035508</td>\n",
       "      <td>...</td>\n",
       "      <td>-0.070773</td>\n",
       "      <td>-0.104873</td>\n",
       "      <td>1.000000</td>\n",
       "      <td>-0.134075</td>\n",
       "      <td>-0.121631</td>\n",
       "      <td>-0.113412</td>\n",
       "      <td>-0.243890</td>\n",
       "      <td>-0.362863</td>\n",
       "      <td>0.040372</td>\n",
       "      <td>-0.121930</td>\n",
       "    </tr>\n",
       "    <tr>\n",
       "      <th>third_female</th>\n",
       "      <td>-0.078984</td>\n",
       "      <td>0.104873</td>\n",
       "      <td>0.363266</td>\n",
       "      <td>-0.595174</td>\n",
       "      <td>-0.195318</td>\n",
       "      <td>0.148524</td>\n",
       "      <td>0.227276</td>\n",
       "      <td>-0.142199</td>\n",
       "      <td>-0.032361</td>\n",
       "      <td>0.215054</td>\n",
       "      <td>...</td>\n",
       "      <td>-0.195713</td>\n",
       "      <td>-0.150784</td>\n",
       "      <td>-0.134075</td>\n",
       "      <td>1.000000</td>\n",
       "      <td>-0.174879</td>\n",
       "      <td>-0.163062</td>\n",
       "      <td>-0.350660</td>\n",
       "      <td>-0.196420</td>\n",
       "      <td>0.173992</td>\n",
       "      <td>-0.181580</td>\n",
       "    </tr>\n",
       "    <tr>\n",
       "      <th>first_male</th>\n",
       "      <td>0.015067</td>\n",
       "      <td>-0.012274</td>\n",
       "      <td>-0.623790</td>\n",
       "      <td>0.293828</td>\n",
       "      <td>0.294884</td>\n",
       "      <td>-0.076447</td>\n",
       "      <td>-0.050878</td>\n",
       "      <td>0.280868</td>\n",
       "      <td>0.158558</td>\n",
       "      <td>-0.077667</td>\n",
       "      <td>...</td>\n",
       "      <td>0.521137</td>\n",
       "      <td>-0.136789</td>\n",
       "      <td>-0.121631</td>\n",
       "      <td>-0.174879</td>\n",
       "      <td>1.000000</td>\n",
       "      <td>-0.147927</td>\n",
       "      <td>-0.318113</td>\n",
       "      <td>-0.178189</td>\n",
       "      <td>-0.093960</td>\n",
       "      <td>0.298486</td>\n",
       "    </tr>\n",
       "    <tr>\n",
       "      <th>second_male</th>\n",
       "      <td>0.002834</td>\n",
       "      <td>-0.172920</td>\n",
       "      <td>-0.137179</td>\n",
       "      <td>0.273973</td>\n",
       "      <td>0.032843</td>\n",
       "      <td>-0.060796</td>\n",
       "      <td>-0.073472</td>\n",
       "      <td>-0.093192</td>\n",
       "      <td>-0.091112</td>\n",
       "      <td>-0.078257</td>\n",
       "      <td>...</td>\n",
       "      <td>-0.153273</td>\n",
       "      <td>-0.127546</td>\n",
       "      <td>-0.113412</td>\n",
       "      <td>-0.163062</td>\n",
       "      <td>-0.147927</td>\n",
       "      <td>1.000000</td>\n",
       "      <td>-0.296617</td>\n",
       "      <td>0.109015</td>\n",
       "      <td>-0.012549</td>\n",
       "      <td>-0.128957</td>\n",
       "    </tr>\n",
       "    <tr>\n",
       "      <th>third_male</th>\n",
       "      <td>0.029548</td>\n",
       "      <td>-0.407925</td>\n",
       "      <td>0.660798</td>\n",
       "      <td>0.589172</td>\n",
       "      <td>-0.150357</td>\n",
       "      <td>-0.017717</td>\n",
       "      <td>-0.155459</td>\n",
       "      <td>-0.314262</td>\n",
       "      <td>-0.131969</td>\n",
       "      <td>-0.089774</td>\n",
       "      <td>...</td>\n",
       "      <td>-0.402345</td>\n",
       "      <td>-0.274284</td>\n",
       "      <td>-0.243890</td>\n",
       "      <td>-0.350660</td>\n",
       "      <td>-0.318113</td>\n",
       "      <td>-0.296617</td>\n",
       "      <td>1.000000</td>\n",
       "      <td>0.826167</td>\n",
       "      <td>-0.034244</td>\n",
       "      <td>-0.307690</td>\n",
       "    </tr>\n",
       "    <tr>\n",
       "      <th>PS</th>\n",
       "      <td>0.008638</td>\n",
       "      <td>-0.594185</td>\n",
       "      <td>0.712469</td>\n",
       "      <td>0.789548</td>\n",
       "      <td>-0.152976</td>\n",
       "      <td>-0.029710</td>\n",
       "      <td>-0.162361</td>\n",
       "      <td>-0.469265</td>\n",
       "      <td>-0.209273</td>\n",
       "      <td>-0.101419</td>\n",
       "      <td>...</td>\n",
       "      <td>-0.548562</td>\n",
       "      <td>-0.662529</td>\n",
       "      <td>-0.362863</td>\n",
       "      <td>-0.196420</td>\n",
       "      <td>-0.178189</td>\n",
       "      <td>0.109015</td>\n",
       "      <td>0.826167</td>\n",
       "      <td>1.000000</td>\n",
       "      <td>-0.003195</td>\n",
       "      <td>-0.510430</td>\n",
       "    </tr>\n",
       "    <tr>\n",
       "      <th>Child</th>\n",
       "      <td>-0.017941</td>\n",
       "      <td>0.136107</td>\n",
       "      <td>0.121920</td>\n",
       "      <td>-0.111141</td>\n",
       "      <td>-0.566310</td>\n",
       "      <td>0.352437</td>\n",
       "      <td>0.351481</td>\n",
       "      <td>0.003753</td>\n",
       "      <td>0.023201</td>\n",
       "      <td>0.416472</td>\n",
       "      <td>...</td>\n",
       "      <td>-0.055174</td>\n",
       "      <td>-0.072359</td>\n",
       "      <td>0.040372</td>\n",
       "      <td>0.173992</td>\n",
       "      <td>-0.093960</td>\n",
       "      <td>-0.012549</td>\n",
       "      <td>-0.034244</td>\n",
       "      <td>-0.003195</td>\n",
       "      <td>1.000000</td>\n",
       "      <td>-0.089584</td>\n",
       "    </tr>\n",
       "    <tr>\n",
       "      <th>wealthy_class</th>\n",
       "      <td>0.009686</td>\n",
       "      <td>0.286113</td>\n",
       "      <td>-0.610218</td>\n",
       "      <td>-0.187381</td>\n",
       "      <td>0.168324</td>\n",
       "      <td>0.183908</td>\n",
       "      <td>0.101429</td>\n",
       "      <td>0.716845</td>\n",
       "      <td>0.230479</td>\n",
       "      <td>0.176367</td>\n",
       "      <td>...</td>\n",
       "      <td>0.587135</td>\n",
       "      <td>0.619842</td>\n",
       "      <td>-0.121930</td>\n",
       "      <td>-0.181580</td>\n",
       "      <td>0.298486</td>\n",
       "      <td>-0.128957</td>\n",
       "      <td>-0.307690</td>\n",
       "      <td>-0.510430</td>\n",
       "      <td>-0.089584</td>\n",
       "      <td>1.000000</td>\n",
       "    </tr>\n",
       "  </tbody>\n",
       "</table>\n",
       "<p>21 rows × 21 columns</p>\n",
       "</div>"
      ],
      "text/plain": [
       "               PassengerId  Survived    Pclass       Sex       Age     SibSp  \\\n",
       "PassengerId       1.000000 -0.005007 -0.035144  0.042939  0.034212 -0.057527   \n",
       "Survived         -0.005007  1.000000 -0.338481 -0.543351 -0.064910 -0.035322   \n",
       "Pclass           -0.035144 -0.338481  1.000000  0.131900 -0.339898  0.083081   \n",
       "Sex               0.042939 -0.543351  0.131900  1.000000  0.081163 -0.114631   \n",
       "Age               0.034212 -0.064910 -0.339898  0.081163  1.000000 -0.233296   \n",
       "SibSp            -0.057527 -0.035322  0.083081 -0.114631 -0.233296  1.000000   \n",
       "Parch            -0.001652  0.081629  0.018443 -0.245489 -0.172482  0.414838   \n",
       "Fare              0.012658  0.257307 -0.549500 -0.182333  0.096688  0.159651   \n",
       "Embarked         -0.001205  0.168240 -0.243292 -0.082853  0.030248 -0.059528   \n",
       "Family           -0.040143  0.016639  0.065997 -0.200988 -0.245619  0.890712   \n",
       "Alone             0.057462 -0.203367  0.135207  0.303646  0.171647 -0.584471   \n",
       "Has_Cabin         0.019919  0.316912 -0.725541 -0.140391  0.240314 -0.040460   \n",
       "first_female      0.030994  0.412581 -0.537844 -0.465541  0.121857  0.009405   \n",
       "second_female    -0.003437  0.337329 -0.112793 -0.413953 -0.015433 -0.010021   \n",
       "third_female     -0.078984  0.104873  0.363266 -0.595174 -0.195318  0.148524   \n",
       "first_male        0.015067 -0.012274 -0.623790  0.293828  0.294884 -0.076447   \n",
       "second_male       0.002834 -0.172920 -0.137179  0.273973  0.032843 -0.060796   \n",
       "third_male        0.029548 -0.407925  0.660798  0.589172 -0.150357 -0.017717   \n",
       "PS                0.008638 -0.594185  0.712469  0.789548 -0.152976 -0.029710   \n",
       "Child            -0.017941  0.136107  0.121920 -0.111141 -0.566310  0.352437   \n",
       "wealthy_class     0.009686  0.286113 -0.610218 -0.187381  0.168324  0.183908   \n",
       "\n",
       "                  Parch      Fare  Embarked    Family      ...        \\\n",
       "PassengerId   -0.001652  0.012658 -0.001205 -0.040143      ...         \n",
       "Survived       0.081629  0.257307  0.168240  0.016639      ...         \n",
       "Pclass         0.018443 -0.549500 -0.243292  0.065997      ...         \n",
       "Sex           -0.245489 -0.182333 -0.082853 -0.200988      ...         \n",
       "Age           -0.172482  0.096688  0.030248 -0.245619      ...         \n",
       "SibSp          0.414838  0.159651 -0.059528  0.890712      ...         \n",
       "Parch          1.000000  0.216225 -0.011069  0.783111      ...         \n",
       "Fare           0.216225  1.000000  0.269335  0.217138      ...         \n",
       "Embarked      -0.011069  0.269335  1.000000 -0.046215      ...         \n",
       "Family         0.783111  0.217138 -0.046215  1.000000      ...         \n",
       "Alone         -0.583398 -0.271832 -0.095298 -0.690922      ...         \n",
       "Has_Cabin      0.036987  0.482075  0.208528 -0.009175      ...         \n",
       "first_female   0.032336  0.511153  0.236086  0.022583      ...         \n",
       "second_female  0.084784 -0.062925 -0.075296  0.035508      ...         \n",
       "third_female   0.227276 -0.142199 -0.032361  0.215054      ...         \n",
       "first_male    -0.050878  0.280868  0.158558 -0.077667      ...         \n",
       "second_male   -0.073472 -0.093192 -0.091112 -0.078257      ...         \n",
       "third_male    -0.155459 -0.314262 -0.131969 -0.089774      ...         \n",
       "PS            -0.162361 -0.469265 -0.209273 -0.101419      ...         \n",
       "Child          0.351481  0.003753  0.023201  0.416472      ...         \n",
       "wealthy_class  0.101429  0.716845  0.230479  0.176367      ...         \n",
       "\n",
       "               Has_Cabin  first_female  second_female  third_female  \\\n",
       "PassengerId     0.019919      0.030994      -0.003437     -0.078984   \n",
       "Survived        0.316912      0.412581       0.337329      0.104873   \n",
       "Pclass         -0.725541     -0.537844      -0.112793      0.363266   \n",
       "Sex            -0.140391     -0.465541      -0.413953     -0.595174   \n",
       "Age             0.240314      0.121857      -0.015433     -0.195318   \n",
       "SibSp          -0.040460      0.009405      -0.010021      0.148524   \n",
       "Parch           0.036987      0.032336       0.084784      0.227276   \n",
       "Fare            0.482075      0.511153      -0.062925     -0.142199   \n",
       "Embarked        0.208528      0.236086      -0.075296     -0.032361   \n",
       "Family         -0.009175      0.022583       0.035508      0.215054   \n",
       "Alone          -0.158029     -0.169132      -0.113352     -0.166911   \n",
       "Has_Cabin       1.000000      0.517188      -0.070773     -0.195713   \n",
       "first_female    0.517188      1.000000      -0.104873     -0.150784   \n",
       "second_female  -0.070773     -0.104873       1.000000     -0.134075   \n",
       "third_female   -0.195713     -0.150784      -0.134075      1.000000   \n",
       "first_male      0.521137     -0.136789      -0.121631     -0.174879   \n",
       "second_male    -0.153273     -0.127546      -0.113412     -0.163062   \n",
       "third_male     -0.402345     -0.274284      -0.243890     -0.350660   \n",
       "PS             -0.548562     -0.662529      -0.362863     -0.196420   \n",
       "Child          -0.055174     -0.072359       0.040372      0.173992   \n",
       "wealthy_class   0.587135      0.619842      -0.121930     -0.181580   \n",
       "\n",
       "               first_male  second_male  third_male        PS     Child  \\\n",
       "PassengerId      0.015067     0.002834    0.029548  0.008638 -0.017941   \n",
       "Survived        -0.012274    -0.172920   -0.407925 -0.594185  0.136107   \n",
       "Pclass          -0.623790    -0.137179    0.660798  0.712469  0.121920   \n",
       "Sex              0.293828     0.273973    0.589172  0.789548 -0.111141   \n",
       "Age              0.294884     0.032843   -0.150357 -0.152976 -0.566310   \n",
       "SibSp           -0.076447    -0.060796   -0.017717 -0.029710  0.352437   \n",
       "Parch           -0.050878    -0.073472   -0.155459 -0.162361  0.351481   \n",
       "Fare             0.280868    -0.093192   -0.314262 -0.469265  0.003753   \n",
       "Embarked         0.158558    -0.091112   -0.131969 -0.209273  0.023201   \n",
       "Family          -0.077667    -0.078257   -0.089774 -0.101419  0.416472   \n",
       "Alone            0.009817     0.048553    0.258061  0.298654 -0.347400   \n",
       "Has_Cabin        0.521137    -0.153273   -0.402345 -0.548562 -0.055174   \n",
       "first_female    -0.136789    -0.127546   -0.274284 -0.662529 -0.072359   \n",
       "second_female   -0.121631    -0.113412   -0.243890 -0.362863  0.040372   \n",
       "third_female    -0.174879    -0.163062   -0.350660 -0.196420  0.173992   \n",
       "first_male       1.000000    -0.147927   -0.318113 -0.178189 -0.093960   \n",
       "second_male     -0.147927     1.000000   -0.296617  0.109015 -0.012549   \n",
       "third_male      -0.318113    -0.296617    1.000000  0.826167 -0.034244   \n",
       "PS              -0.178189     0.109015    0.826167  1.000000 -0.003195   \n",
       "Child           -0.093960    -0.012549   -0.034244 -0.003195  1.000000   \n",
       "wealthy_class    0.298486    -0.128957   -0.307690 -0.510430 -0.089584   \n",
       "\n",
       "               wealthy_class  \n",
       "PassengerId         0.009686  \n",
       "Survived            0.286113  \n",
       "Pclass             -0.610218  \n",
       "Sex                -0.187381  \n",
       "Age                 0.168324  \n",
       "SibSp               0.183908  \n",
       "Parch               0.101429  \n",
       "Fare                0.716845  \n",
       "Embarked            0.230479  \n",
       "Family              0.176367  \n",
       "Alone              -0.301348  \n",
       "Has_Cabin           0.587135  \n",
       "first_female        0.619842  \n",
       "second_female      -0.121930  \n",
       "third_female       -0.181580  \n",
       "first_male          0.298486  \n",
       "second_male        -0.128957  \n",
       "third_male         -0.307690  \n",
       "PS                 -0.510430  \n",
       "Child              -0.089584  \n",
       "wealthy_class       1.000000  \n",
       "\n",
       "[21 rows x 21 columns]"
      ]
     },
     "execution_count": 44,
     "metadata": {},
     "output_type": "execute_result"
    }
   ],
   "source": [
    "df_train.corr()"
   ]
  },
  {
   "cell_type": "code",
   "execution_count": 45,
   "metadata": {},
   "outputs": [
    {
     "data": {
      "text/plain": [
       "<matplotlib.axes._subplots.AxesSubplot at 0x22adbf79e48>"
      ]
     },
     "execution_count": 45,
     "metadata": {},
     "output_type": "execute_result"
    },
    {
     "data": {
      "image/png": "[encoded data removed]",
      "text/plain": [
       "<matplotlib.figure.Figure at 0x22adbf40be0>"
      ]
     },
     "metadata": {},
     "output_type": "display_data"
    }
   ],
   "source": [
    "plt.figure(figsize=(14,12))\n",
    "sns.heatmap(df_train.corr(), vmax=.8, square=True, linecolor='white', cmap = 'PRGn', annot=True )"
   ]
  },
  {
   "cell_type": "markdown",
   "metadata": {},
   "source": [
    "# モデル作成"
   ]
  },
  {
   "cell_type": "code",
   "execution_count": 68,
   "metadata": {
    "collapsed": true
   },
   "outputs": [],
   "source": [
    "# 今回はPassengerId,Survived以外を特徴量にする"
   ]
  },
  {
   "cell_type": "code",
   "execution_count": 46,
   "metadata": {
    "collapsed": true
   },
   "outputs": [],
   "source": [
    "train_X = df_train.drop(['PassengerId', 'Survived'], axis = 1)"
   ]
  },
  {
   "cell_type": "code",
   "execution_count": 47,
   "metadata": {
    "collapsed": true
   },
   "outputs": [],
   "source": [
    "train_y = df_train['Survived']"
   ]
  },
  {
   "cell_type": "code",
   "execution_count": 108,
   "metadata": {
    "collapsed": true
   },
   "outputs": [],
   "source": [
    "model = RandomForestClassifier(n_estimators=50, random_state=0)"
   ]
  },
  {
   "cell_type": "code",
   "execution_count": 109,
   "metadata": {},
   "outputs": [
    {
     "data": {
      "text/plain": [
       "RandomForestClassifier(bootstrap=True, class_weight=None, criterion='gini',\n",
       "            max_depth=None, max_features='auto', max_leaf_nodes=None,\n",
       "            min_impurity_decrease=0.0, min_impurity_split=None,\n",
       "            min_samples_leaf=1, min_samples_split=2,\n",
       "            min_weight_fraction_leaf=0.0, n_estimators=50, n_jobs=1,\n",
       "            oob_score=False, random_state=0, verbose=0, warm_start=False)"
      ]
     },
     "execution_count": 109,
     "metadata": {},
     "output_type": "execute_result"
    }
   ],
   "source": [
    "model.fit(train_X, train_y)"
   ]
  },
  {
   "cell_type": "code",
   "execution_count": 110,
   "metadata": {
    "scrolled": true
   },
   "outputs": [
    {
     "data": {
      "text/plain": [
       "Index(['Pclass', 'Sex', 'Age', 'SibSp', 'Parch', 'Fare', 'Embarked', 'Family',\n",
       "       'Alone', 'Has_Cabin', 'first_female', 'second_female', 'third_female',\n",
       "       'first_male', 'second_male', 'third_male', 'PS', 'Child',\n",
       "       'wealthy_class'],\n",
       "      dtype='object')"
      ]
     },
     "execution_count": 110,
     "metadata": {},
     "output_type": "execute_result"
    }
   ],
   "source": [
    "train_X.columns"
   ]
  },
  {
   "cell_type": "code",
   "execution_count": 111,
   "metadata": {
    "scrolled": true
   },
   "outputs": [
    {
     "name": "stdout",
     "output_type": "stream",
     "text": [
      "Pclass : 0.023210820733411634\n",
      "Sex : 0.10831179966345936\n",
      "Age : 0.22345747460267837\n",
      "SibSp : 0.022077734588847635\n",
      "Parch : 0.01972966133318764\n",
      "Fare : 0.20928650560948714\n",
      "Embarked : 0.022300169326795075\n",
      "Family : 0.04079455188793712\n",
      "Alone : 0.00931466102737581\n",
      "Has_Cabin : 0.02479941683243898\n",
      "first_female : 0.036601164065631825\n",
      "second_female : 0.023013855882035035\n",
      "third_female : 0.014533949883389368\n",
      "first_male : 0.007227167657736092\n",
      "second_male : 0.008684968721168577\n",
      "third_male : 0.03593559677067195\n",
      "PS : 0.13460467848011176\n",
      "Child : 0.022661463269617113\n",
      "wealthy_class : 0.013454359664019554\n"
     ]
    }
   ],
   "source": [
    "# 特徴量毎にランダムフォレストの重要度を確認\n",
    "for c, m in zip(train_X.columns, model.feature_importances_):\n",
    "    # print(c, m)\n",
    "    print('{} : {}'.format(c, m))"
   ]
  },
  {
   "cell_type": "markdown",
   "metadata": {},
   "source": [
    "# 予測"
   ]
  },
  {
   "cell_type": "code",
   "execution_count": 112,
   "metadata": {
    "collapsed": true
   },
   "outputs": [],
   "source": [
    "test_X = df_test.drop(['PassengerId'], axis=1)"
   ]
  },
  {
   "cell_type": "code",
   "execution_count": 113,
   "metadata": {},
   "outputs": [],
   "source": [
    "pred_y = model.predict(test_X)"
   ]
  },
  {
   "cell_type": "code",
   "execution_count": 114,
   "metadata": {},
   "outputs": [
    {
     "data": {
      "text/plain": [
       "array([0, 0, 1, 1, 0, 0, 0, 0, 1, 0], dtype=int64)"
      ]
     },
     "execution_count": 114,
     "metadata": {},
     "output_type": "execute_result"
    }
   ],
   "source": [
    "pred_y[:10]"
   ]
  },
  {
   "cell_type": "markdown",
   "metadata": {},
   "source": [
    "# 提出ファイル作成"
   ]
  },
  {
   "cell_type": "code",
   "execution_count": 115,
   "metadata": {
    "collapsed": true
   },
   "outputs": [],
   "source": [
    "output = pd.read_csv('test.csv')"
   ]
  },
  {
   "cell_type": "code",
   "execution_count": 116,
   "metadata": {
    "collapsed": true
   },
   "outputs": [],
   "source": [
    "output['Survived'] = pred_y"
   ]
  },
  {
   "cell_type": "code",
   "execution_count": 117,
   "metadata": {
    "collapsed": true
   },
   "outputs": [],
   "source": [
    "output[['PassengerId','Survived']].to_csv('submission_180923_1.csv', index=False)"
   ]
  },
  {
   "cell_type": "code",
   "execution_count": null,
   "metadata": {
    "collapsed": true
   },
   "outputs": [],
   "source": [
    "# score = 0.71770 The score drop"
   ]
  }
 ],
 "metadata": {
  "kernelspec": {
   "display_name": "Python 3",
   "language": "python",
   "name": "python3"
  },
  "language_info": {
   "codemirror_mode": {
    "name": "ipython",
    "version": 3
   },
   "file_extension": ".py",
   "mimetype": "text/x-python",
   "name": "python",
   "nbconvert_exporter": "python",
   "pygments_lexer": "ipython3",
   "version": "3.6.3"
  }
 },
 "nbformat": 4,
 "nbformat_minor": 2
}
